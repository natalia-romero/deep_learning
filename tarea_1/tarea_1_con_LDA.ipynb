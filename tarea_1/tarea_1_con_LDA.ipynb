{
  "cells": [
    {
      "cell_type": "markdown",
      "metadata": {
        "id": "LpGNMWyYycUh"
      },
      "source": [
        "---\n",
        "# Tarea 1 Deep Learning\n",
        "- Integrantes: Matias Aguilera, Jonas Oviedo y Natalia Romero\n",
        "---"
      ]
    },
    {
      "cell_type": "markdown",
      "metadata": {
        "id": "g3T8z8iJycUk"
      },
      "source": [
        "### Importar librerías"
      ]
    },
    {
      "cell_type": "code",
      "execution_count": 205,
      "metadata": {
        "id": "SrrUcFEIycUl"
      },
      "outputs": [],
      "source": [
        "import numpy as np\n",
        "import matplotlib.pyplot as plt"
      ]
    },
    {
      "cell_type": "markdown",
      "metadata": {
        "id": "R3Q6XxygycUn"
      },
      "source": [
        "### Función para calcular distribución de clases"
      ]
    },
    {
      "cell_type": "code",
      "execution_count": 206,
      "metadata": {
        "id": "A7781Ts1ycUo"
      },
      "outputs": [],
      "source": [
        "def classes_distribution(arr):\n",
        "    # Calculate the count of TRUE and FALSE\n",
        "    count_true = np.count_nonzero(arr)\n",
        "    count_false = arr.size - count_true\n",
        "\n",
        "    # Calculate the percentage of TRUE and FALSE\n",
        "    percent_true = (count_true / arr.size) * 100\n",
        "    percent_false = (count_false / arr.size) * 100\n",
        "\n",
        "    print(f\"TRUE: {count_true} ({percent_true:.2f}%)\")\n",
        "    print(f\"FALSE: {count_false} ({percent_false:.2f}%)\")"
      ]
    },
    {
      "cell_type": "markdown",
      "metadata": {
        "id": "HeB_-v-OycUo"
      },
      "source": [
        "### Implementación de Logistic Regression\n",
        "La implementación se basa en el articulo de Medium \"Logistic Regression From Scratch\"\n",
        "\n",
        "\n",
        "\n",
        "Kushal, K. (Fecha de publicación). Logistic Regression from Scratch. Medium. https://medium.com/@koushikkushal95/logistic-regression-from-scratch-dfb8527a4226"
      ]
    },
    {
      "cell_type": "code",
      "execution_count": 207,
      "metadata": {
        "id": "N1bmccZcycUp"
      },
      "outputs": [],
      "source": [
        "\n",
        "class LogisticRegression:\n",
        "    def __init__(self, learning_rate=0.001, n_iters=1000):\n",
        "        self.lr = learning_rate\n",
        "        self.n_iters = n_iters\n",
        "        self.weights = None\n",
        "        self.bias = None\n",
        "        self.losses = []\n",
        "\n",
        "    def _sigmoid(self, x):\n",
        "        return 1 / (1 + np.exp(-x))\n",
        "\n",
        "    def compute_loss(self, y_true, y_pred):\n",
        "        epsilon = 1e-9\n",
        "        y1 = y_true * np.log(y_pred + epsilon)\n",
        "        y2 = (1 - y_true) * np.log(1 - y_pred + epsilon)\n",
        "        return -np.mean(y1 + y2)\n",
        "\n",
        "    def fit(self, X, y):\n",
        "        n_samples, n_features = X.shape\n",
        "        self.weights = np.zeros(n_features)\n",
        "        self.bias = 0\n",
        "\n",
        "        for _ in range(self.n_iters):\n",
        "            y_pred = self._sigmoid(np.dot(X, self.weights) + self.bias)\n",
        "            loss = self.compute_loss(y, y_pred)\n",
        "            self.losses.append(loss)\n",
        "\n",
        "            dw = (1 / n_samples) * np.dot(X.T, (y_pred - y))\n",
        "            db = (1 / n_samples) * np.sum(y_pred - y)\n",
        "\n",
        "            self.weights -= self.lr * dw\n",
        "            self.bias -= self.lr * db\n",
        "\n",
        "    def predict(self, X):\n",
        "        y_pred = self._sigmoid(np.dot(X, self.weights) + self.bias)\n",
        "        y_pred_cls = np.where(y_pred > 0.5, 1, 0)\n",
        "        return y_pred_cls\n",
        "\n",
        "    def plot_loss(self):\n",
        "        plt.figure(figsize=(10, 6))\n",
        "        plt.plot(self.losses, label='Loss')\n",
        "        plt.title('Loss vs. Iterations')\n",
        "        plt.xlabel('Iterations')\n",
        "        plt.ylabel('Loss')\n",
        "        plt.legend()\n",
        "        plt.grid(True)\n",
        "        plt.show()"
      ]
    },
    {
      "cell_type": "code",
      "source": [
        "\n",
        "def lda(X, n_components):\n",
        "    # Assuming X is already standardized (mean=0, std=1)\n",
        "    cov_matrix = np.cov(X, rowvar=False)\n",
        "    eigenvalues, eigenvectors = np.linalg.eig(cov_matrix)\n",
        "    sorted_indices = np.argsort(eigenvalues)[::-1]\n",
        "    selected_indices = sorted_indices[:n_components]\n",
        "    linear_discriminants = eigenvectors[:, selected_indices]\n",
        "    X_lda = np.dot(X, linear_discriminants)\n",
        "\n",
        "    return X_lda\n",
        "\n",
        "\n",
        "def pca(X, n_components):\n",
        "    # 1. Normalización de datos\n",
        "    X_normalized = (X - np.mean(X, axis=0)) / np.std(X, axis=0)\n",
        "\n",
        "    # 2. Cálculo de la matriz de covarianza\n",
        "    covariance_matrix = np.cov(X_normalized, rowvar=False)\n",
        "\n",
        "    # 3. Cálculo de autovalores y autovectores\n",
        "    eigenvalues, eigenvectors = np.linalg.eig(covariance_matrix)\n",
        "\n",
        "    # 4. Selección de componentes principales\n",
        "    sorted_indices = np.argsort(eigenvalues)[::-1]  # Orden descendente\n",
        "    selected_indices = sorted_indices[:n_components]\n",
        "    principal_components = eigenvectors[:, selected_indices]\n",
        "\n",
        "    # 5. Transformación de datos\n",
        "    X_transformed = np.dot(X_normalized, principal_components)\n",
        "    return X_transformed"
      ],
      "metadata": {
        "id": "TH3k-iWI81Mw"
      },
      "execution_count": 208,
      "outputs": []
    },
    {
      "cell_type": "markdown",
      "metadata": {
        "id": "SDvrauDYycUq"
      },
      "source": [
        "### Train Dataset"
      ]
    },
    {
      "cell_type": "code",
      "execution_count": 209,
      "metadata": {
        "id": "Xrf3fL7vycUr",
        "outputId": "5e720a4e-d4e4-411d-ffeb-e9da67fd3e1e",
        "colab": {
          "base_uri": "https://localhost:8080/"
        }
      },
      "outputs": [
        {
          "output_type": "stream",
          "name": "stdout",
          "text": [
            "TRUE: 1450 (39.40%)\n",
            "FALSE: 2230 (60.60%)\n"
          ]
        }
      ],
      "source": [
        "\n",
        "\n",
        "# Cargar datos de entrenamiento y prueba\n",
        "train_data = np.genfromtxt('train_data.csv', delimiter=',', skip_header=1)\n",
        "X_train = train[:, :-1]\n",
        "#X_train = (X_train - np.mean(X_train, axis=0)) / np.std(X_train, axis=0)\n",
        "y_train = train[:, -1]\n",
        "classes_distribution(y_train)"
      ]
    },
    {
      "cell_type": "markdown",
      "metadata": {
        "id": "5APBM1MqycUt"
      },
      "source": [
        "### Test Dataset"
      ]
    },
    {
      "cell_type": "code",
      "execution_count": 210,
      "metadata": {
        "id": "MNgpCWLrycUu"
      },
      "outputs": [],
      "source": [
        "test = np.genfromtxt('test_data.csv', delimiter=',', skip_header=1)\n",
        "X_test = test[:, :-1]\n",
        "#X_test = (X_test - np.mean(X_test, axis=0)) / np.std(X_test, axis=0)"
      ]
    },
    {
      "cell_type": "markdown",
      "metadata": {
        "id": "YkZxzKfxycUv"
      },
      "source": [
        "### Entrenando el modelo\n"
      ]
    },
    {
      "cell_type": "markdown",
      "source": [
        "Aplicando funcion de reduccion de features (PCA)"
      ],
      "metadata": {
        "id": "49RGYGxNGM_O"
      }
    },
    {
      "cell_type": "code",
      "source": [
        "\n",
        "class LogisticRegression:\n",
        "    def __init__(self, learning_rate=0.001, n_iters=1000):\n",
        "        self.lr = learning_rate\n",
        "        self.n_iters = n_iters\n",
        "        self.weights = None\n",
        "        self.bias = None\n",
        "        self.losses = []\n",
        "\n",
        "    def _sigmoid(self, x):\n",
        "        return 1 / (1 + np.exp(-x))\n",
        "\n",
        "    def compute_loss(self, y_true, y_pred):\n",
        "        epsilon = 1e-9\n",
        "        y1 = y_true * np.log(y_pred + epsilon)\n",
        "        y2 = (1 - y_true) * np.log(1 - y_pred + epsilon)\n",
        "        return -np.mean(y1 + y2)\n",
        "\n",
        "    def fit(self, X, y):\n",
        "        n_samples, n_features = X.shape\n",
        "        self.weights = np.zeros(n_features)\n",
        "        self.bias = 0\n",
        "\n",
        "        for _ in range(self.n_iters):\n",
        "            y_pred = self._sigmoid(np.dot(X, self.weights) + self.bias)\n",
        "            loss = self.compute_loss(y, y_pred)\n",
        "            self.losses.append(loss)\n",
        "\n",
        "            dw = (1 / n_samples) * np.dot(X.T, (y_pred - y))\n",
        "            db = (1 / n_samples) * np.sum(y_pred - y)\n",
        "\n",
        "            self.weights -= self.lr * dw\n",
        "            self.bias -= self.lr * db\n",
        "\n",
        "    def predict(self, X):\n",
        "        y_pred = self._sigmoid(np.dot(X, self.weights) + self.bias)\n",
        "        y_pred_cls = np.where(y_pred > 0.5, 1, 0)\n",
        "        return y_pred_cls\n",
        "\n",
        "    def plot_loss(self):\n",
        "        plt.figure(figsize=(10, 6))\n",
        "        plt.plot(self.losses, label='Loss')\n",
        "        plt.title('Loss vs. Iterations')\n",
        "        plt.xlabel('Iterations')\n",
        "        plt.ylabel('Loss')\n",
        "        plt.legend()\n",
        "        plt.grid(True)\n",
        "        plt.show()\n",
        "\n",
        "def lda(X, n_components):\n",
        "    # Assuming X is already standardized (mean=0, std=1)\n",
        "    cov_matrix = np.cov(X, rowvar=False)\n",
        "    eigenvalues, eigenvectors = np.linalg.eig(cov_matrix)\n",
        "    sorted_indices = np.argsort(eigenvalues)[::-1]\n",
        "    selected_indices = sorted_indices[:n_components]\n",
        "    linear_discriminants = eigenvectors[:, selected_indices]\n",
        "    X_lda = np.dot(X, linear_discriminants)\n",
        "\n",
        "    return X_lda\n",
        "\n"
      ],
      "metadata": {
        "id": "MThaDEB4Ttfw"
      },
      "execution_count": 211,
      "outputs": []
    },
    {
      "cell_type": "markdown",
      "source": [],
      "metadata": {
        "id": "gGhllgOSQYLu"
      }
    },
    {
      "cell_type": "code",
      "execution_count": 217,
      "metadata": {
        "id": "nM-NnljRycUv",
        "outputId": "378e88fc-5c75-4b88-cebb-1a807bca07b3",
        "colab": {
          "base_uri": "https://localhost:8080/",
          "height": 512
        }
      },
      "outputs": [
        {
          "output_type": "display_data",
          "data": {
            "text/plain": [
              "<Figure size 1000x600 with 1 Axes>"
            ],
            "image/png": "[encoded data removed]"
          },
          "metadata": {}
        }
      ],
      "source": [
        "\n",
        "# Cargar datos de entrenamiento y prueba\n",
        "train_data = np.genfromtxt('train_data.csv', delimiter=',', skip_header=1)\n",
        "test_data = np.genfromtxt('test_data.csv', delimiter=',', skip_header=1)\n",
        "\n",
        "# Dividir datos de entrenamiento en X_train y y_train\n",
        "X_train = train_data[:, :-1]\n",
        "X_train = (X_train - np.mean(X_train, axis=0)) / np.std(X_train, axis=0)\n",
        "\n",
        "y_train = train_data[:, -1]\n",
        "\n",
        "# Dividir datos de prueba en X_test (asumiendo que 'test_data' también tiene características)\n",
        "X_test = test_data\n",
        "X_test = (X_test - np.mean(X_test, axis=0)) / np.std(X_test, axis=0)\n",
        "\n",
        "# Aplicar LDA a los datos de entrenamiento y prueba\n",
        "n_components = 30\n",
        "X_train_lda = lda(X_train, n_components)\n",
        "X_test_lda = lda(X_test, n_components)\n",
        "\n",
        "\n",
        "\n",
        "\n",
        "# Entrenar y probar el modelo de regresión logística con datos transformados (LDA)\n",
        "logistic_regression = LogisticRegression(learning_rate=0.01, n_iters=1500)\n",
        "logistic_regression.fit(X_train_lda, y_train)\n",
        "predictions = logistic_regression.predict(X_test_lda)\n",
        "\n",
        "# Guardar predicciones en archivo CSV\n",
        "np.savetxt(\"submission.csv\", predictions, delimiter=\",\", fmt='%d', header=\"ID,Class\", comments='')\n",
        "\n",
        "# Plot loss curve\n",
        "logistic_regression.plot_loss()\n"
      ]
    },
    {
      "cell_type": "markdown",
      "metadata": {
        "id": "IljI1FqTycUw"
      },
      "source": [
        "### Cálculo de métricas"
      ]
    },
    {
      "cell_type": "code",
      "execution_count": 213,
      "metadata": {
        "id": "EnJhrdulycUw"
      },
      "outputs": [],
      "source": [
        "def calculate_metrics(y_true, y_pred):\n",
        "    # true positives, false positives, true negatives, and false negatives\n",
        "    tp = np.sum((y_pred == 1) & (y_true == 1))\n",
        "    tn = np.sum((y_pred == 0) & (y_true == 0))\n",
        "    fp = np.sum((y_pred == 1) & (y_true == 0))\n",
        "    fn = np.sum((y_pred == 0) & (y_true == 1))\n",
        "\n",
        "    # metrics\n",
        "    accuracy = (tp + tn) / (tp + tn + fp + fn) if (tp + tn + fp + fn) > 0 else 0\n",
        "    precision = tp / (tp + fp) if (tp + fp) > 0 else 0\n",
        "    recall = tp / (tp + fn) if (tp + fn) > 0 else 0\n",
        "\n",
        "    return {\n",
        "        'accuracy': accuracy,\n",
        "        'precision': precision,\n",
        "        'recall': recall\n",
        "    }"
      ]
    },
    {
      "cell_type": "markdown",
      "metadata": {
        "id": "eFcEuwoDycUw"
      },
      "source": [
        "### K-Fold Cross Validation"
      ]
    },
    {
      "cell_type": "code",
      "execution_count": 214,
      "metadata": {
        "id": "54rJgH-AycUw"
      },
      "outputs": [],
      "source": [
        "def k_fold_split(X, y, k):\n",
        "    n_samples = len(y)\n",
        "    indices = np.arange(n_samples)\n",
        "    np.random.shuffle(indices)\n",
        "    fold_sizes = np.full(k, n_samples // k)\n",
        "    fold_sizes[:n_samples % k] += 1\n",
        "    current = 0\n",
        "    folds = []\n",
        "    for fold_size in fold_sizes:\n",
        "        start, stop = current, current + fold_size\n",
        "        folds.append((indices[start:stop]))\n",
        "        current = stop\n",
        "    return folds"
      ]
    },
    {
      "cell_type": "code",
      "execution_count": 215,
      "metadata": {
        "id": "nRU32OdRycUx"
      },
      "outputs": [],
      "source": [
        "def cross_validation(X, y, k=5, learning_rate=0.09, n_iters=1500):\n",
        "    folds = k_fold_split(X, y, k)\n",
        "    scores = []\n",
        "    for i in range(k):\n",
        "        train_i = np.hstack([folds[j] for j in range(k) if j != i])\n",
        "        test_i = folds[i]\n",
        "        X_train, y_train = X[train_i], y[train_i]\n",
        "        X_test, y_test = X[test_i], y[test_i]\n",
        "        lr = LogisticRegression(learning_rate, n_iters)\n",
        "        lr.fit(X_train, y_train)\n",
        "        predictions = lr.predict(X_test)\n",
        "        score = calculate_metrics(predictions['Class'],y_test)\n",
        "        scores.append(score)\n",
        "        print(f\"Fold {i+1}, Score: {score}\")\n",
        "        lr.plot_loss()\n",
        "        print(\"----------------\")\n"
      ]
    },
    {
      "cell_type": "code",
      "execution_count": 216,
      "metadata": {
        "id": "BjwxtbtnycUx",
        "outputId": "09c702c7-8f69-44fe-e0f3-56819b8c7af8",
        "colab": {
          "base_uri": "https://localhost:8080/",
          "height": 315
        }
      },
      "outputs": [
        {
          "output_type": "stream",
          "name": "stderr",
          "text": [
            "<ipython-input-211-ebbbcbb9938e>:10: RuntimeWarning: overflow encountered in exp\n",
            "  return 1 / (1 + np.exp(-x))\n"
          ]
        },
        {
          "output_type": "error",
          "ename": "IndexError",
          "evalue": "only integers, slices (`:`), ellipsis (`...`), numpy.newaxis (`None`) and integer or boolean arrays are valid indices",
          "traceback": [
            "\u001b[0;31m---------------------------------------------------------------------------\u001b[0m",
            "\u001b[0;31mIndexError\u001b[0m                                Traceback (most recent call last)",
            "\u001b[0;32m<ipython-input-216-851a099e35bf>\u001b[0m in \u001b[0;36m<cell line: 1>\u001b[0;34m()\u001b[0m\n\u001b[0;32m----> 1\u001b[0;31m \u001b[0mcross_validation\u001b[0m\u001b[0;34m(\u001b[0m\u001b[0mX_train\u001b[0m\u001b[0;34m,\u001b[0m\u001b[0my_train\u001b[0m\u001b[0;34m)\u001b[0m\u001b[0;34m\u001b[0m\u001b[0;34m\u001b[0m\u001b[0m\n\u001b[0m",
            "\u001b[0;32m<ipython-input-215-3df91fe77e33>\u001b[0m in \u001b[0;36mcross_validation\u001b[0;34m(X, y, k, learning_rate, n_iters)\u001b[0m\n\u001b[1;32m     10\u001b[0m         \u001b[0mlr\u001b[0m\u001b[0;34m.\u001b[0m\u001b[0mfit\u001b[0m\u001b[0;34m(\u001b[0m\u001b[0mX_train\u001b[0m\u001b[0;34m,\u001b[0m \u001b[0my_train\u001b[0m\u001b[0;34m)\u001b[0m\u001b[0;34m\u001b[0m\u001b[0;34m\u001b[0m\u001b[0m\n\u001b[1;32m     11\u001b[0m         \u001b[0mpredictions\u001b[0m \u001b[0;34m=\u001b[0m \u001b[0mlr\u001b[0m\u001b[0;34m.\u001b[0m\u001b[0mpredict\u001b[0m\u001b[0;34m(\u001b[0m\u001b[0mX_test\u001b[0m\u001b[0;34m)\u001b[0m\u001b[0;34m\u001b[0m\u001b[0;34m\u001b[0m\u001b[0m\n\u001b[0;32m---> 12\u001b[0;31m         \u001b[0mscore\u001b[0m \u001b[0;34m=\u001b[0m \u001b[0mcalculate_metrics\u001b[0m\u001b[0;34m(\u001b[0m\u001b[0mpredictions\u001b[0m\u001b[0;34m[\u001b[0m\u001b[0;34m'Class'\u001b[0m\u001b[0;34m]\u001b[0m\u001b[0;34m,\u001b[0m\u001b[0my_test\u001b[0m\u001b[0;34m)\u001b[0m\u001b[0;34m\u001b[0m\u001b[0;34m\u001b[0m\u001b[0m\n\u001b[0m\u001b[1;32m     13\u001b[0m         \u001b[0mscores\u001b[0m\u001b[0;34m.\u001b[0m\u001b[0mappend\u001b[0m\u001b[0;34m(\u001b[0m\u001b[0mscore\u001b[0m\u001b[0;34m)\u001b[0m\u001b[0;34m\u001b[0m\u001b[0;34m\u001b[0m\u001b[0m\n\u001b[1;32m     14\u001b[0m         \u001b[0mprint\u001b[0m\u001b[0;34m(\u001b[0m\u001b[0;34mf\"Fold {i+1}, Score: {score}\"\u001b[0m\u001b[0;34m)\u001b[0m\u001b[0;34m\u001b[0m\u001b[0;34m\u001b[0m\u001b[0m\n",
            "\u001b[0;31mIndexError\u001b[0m: only integers, slices (`:`), ellipsis (`...`), numpy.newaxis (`None`) and integer or boolean arrays are valid indices"
          ]
        }
      ],
      "source": [
        "#cross_validation(X_train,y_train)"
      ]
    }
  ],
  "metadata": {
    "kernelspec": {
      "display_name": "Python 3",
      "language": "python",
      "name": "python3"
    },
    "language_info": {
      "codemirror_mode": {
        "name": "ipython",
        "version": 3
      },
      "file_extension": ".py",
      "mimetype": "text/x-python",
      "name": "python",
      "nbconvert_exporter": "python",
      "pygments_lexer": "ipython3",
      "version": "3.8.10"
    },
    "colab": {
      "provenance": []
    }
  },
  "nbformat": 4,
  "nbformat_minor": 0
}