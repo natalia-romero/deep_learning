{
 "cells": [
  {
   "cell_type": "markdown",
   "id": "f7cb9abd-01fe-4099-80b2-5df871c4a63a",
   "metadata": {},
   "source": [
    "# Tarea 2"
   ]
  },
  {
   "cell_type": "markdown",
   "id": "73798d15-5324-4a85-ac43-5df6d259e98c",
   "metadata": {
    "jp-MarkdownHeadingCollapsed": true
   },
   "source": [
    "## Importación de librerías\n",
    "En primer lugar, se importan las librerías numpy y pandas, las cuales nos ayudarán a trabajar con los datos. Además, se importa la librería matplotlib que será de ayuda para graficar los resultados obtenidos y generar análisis en base a su interpretación. Finalmente se importa la librería time que será de importancia para el calculo de tiempo de entrenamiento."
   ]
  },
  {
   "cell_type": "code",
   "execution_count": 1,
   "id": "initial_id",
   "metadata": {
    "ExecuteTime": {
     "end_time": "2024-05-13T17:33:56.924573Z",
     "start_time": "2024-05-13T17:33:56.659277Z"
    }
   },
   "outputs": [],
   "source": [
    "import numpy as np \n",
    "import pandas as pd \n",
    "import matplotlib.pyplot as plt\n",
    "import time"
   ]
  },
  {
   "cell_type": "markdown",
   "id": "e18165c3-4082-4ea4-98d5-5d81ca967495",
   "metadata": {},
   "source": [
    "## Carga del dataset CIFAR-10\n",
    "El dataset **CIFAR-10** (Canadian Institute For Advanced Research) es uno de los datasets más utilizados en computer vision. Consiste en 60000 imágenes en color de 32x32 px distribuidas en 10 clases, con 6000 imágenes por clase. El conjunto de datos está dividido en una parte de train y una parte de test, con 50000 y 10000 imágenes, respectivamente.\n",
    "\n",
    "\n",
    "Las clases del dataset son las siguientes:\n",
    "1. Avión\n",
    "2. Automóvil\n",
    "3. Pájaro\n",
    "4. Gato\n",
    "5. Ciervo\n",
    "6. Perro\n",
    "7. Rana\n",
    "8. Caballo\n",
    "9. Barco\n",
    "10. Camión"
   ]
  },
  {
   "cell_type": "markdown",
   "id": "de302293-fafe-4f57-87dd-414d0c272bb2",
   "metadata": {},
   "source": [
    "### Train\n",
    "Se cargan los datos de entrenamiento desde un archivo CSV. Además, se convierten los datos a un array de numpy y se redimensionan a 32x32 píxeles con 3 canales de color (RGB)."
   ]
  },
  {
   "cell_type": "code",
   "execution_count": 2,
   "id": "fd037ebb66d7e9df",
   "metadata": {
    "ExecuteTime": {
     "end_time": "2024-05-13T17:34:10.390989Z",
     "start_time": "2024-05-13T17:33:56.926234Z"
    }
   },
   "outputs": [],
   "source": [
    "train = pd.read_csv('data/train_data.csv')\n",
    "X_train = train.drop(columns=[\"ID\", \"label\"]).values.reshape(-1, 32, 32, 3)\n",
    "y_train = train[\"label\"].values"
   ]
  },
  {
   "cell_type": "markdown",
   "id": "11a9f369-eeae-4654-a60e-e2351216bb9f",
   "metadata": {},
   "source": [
    "### Test\n",
    "Al igual que en train, se cargan los datos de entrenamiento y se redimensiona."
   ]
  },
  {
   "cell_type": "code",
   "execution_count": 3,
   "id": "d908c9bd",
   "metadata": {
    "ExecuteTime": {
     "end_time": "2024-05-13T17:34:13.688250Z",
     "start_time": "2024-05-13T17:34:11.258033Z"
    }
   },
   "outputs": [],
   "source": [
    "test = pd.read_csv('data/test_data.csv')\n",
    "X_test = test.drop(columns=[\"ID\"]).values.reshape(-1, 32, 32, 3)"
   ]
  },
  {
   "cell_type": "markdown",
   "id": "34fbe282-2706-40fd-bb5d-764c928e347f",
   "metadata": {},
   "source": [
    "## Normalización de los datos\n",
    "Para mejorar el rendimiento del modelo a crear, se necesitan normalizar los datos de entrada. Lo que hace esta técnica, es escalar los valores de los píxeles a un rango más manejable, lo que puede acelerar el proceso de entrenamiento y mejorar la precisión del modelo. Los valores de píxeles están en un rango de 0 a 255. Por lo que al dividir estos valores por 255, se escalan a un rango de 0 a 1."
   ]
  },
  {
   "cell_type": "code",
   "execution_count": 4,
   "id": "09ddf2ea-32fe-4c16-aa4f-67c325326c58",
   "metadata": {},
   "outputs": [],
   "source": [
    "X_train_scaled = X_train/255\n",
    "X_test_scaled = X_test/255"
   ]
  },
  {
   "cell_type": "markdown",
   "id": "4b13ee07-4f46-48ff-801a-0f65b593203e",
   "metadata": {},
   "source": [
    "### Aplanamiento de las imágenes\n",
    "Los datos deben aplanarse de su formato original (alto, ancho, canales) a un formato bidimensional (número de muestras, características)."
   ]
  },
  {
   "cell_type": "code",
   "execution_count": 5,
   "id": "f665ce94-0627-4f64-946c-c3bf00aa358e",
   "metadata": {},
   "outputs": [],
   "source": [
    "X_train_flat = X_train_scaled.reshape(X_train_scaled.shape[0], -1)\n",
    "X_test_flat = X_test_scaled.reshape(X_test_scaled.shape[0], -1)"
   ]
  },
  {
   "cell_type": "markdown",
   "id": "5242b355-752b-4365-a086-5f029aaed7db",
   "metadata": {},
   "source": [
    "### One-Hot\n",
    "Se codifican las clases para que sean procesadas por la red. De tal forma que, se crea un vector de dos posibles valores 0 o 1, donde solo tendrá el valor de 1 en el índice de la clase correspondiente, y las demás posiciones estarán en 0."
   ]
  },
  {
   "cell_type": "code",
   "execution_count": 6,
   "id": "0ac65690-e687-45ed-a638-c0d11440fa2c",
   "metadata": {},
   "outputs": [],
   "source": [
    "num_classes = 10\n",
    "y_train_one_hot = np.eye(num_classes)[y_train]"
   ]
  },
  {
   "cell_type": "markdown",
   "id": "cb46ce92-dc64-4c9c-b120-c65555983735",
   "metadata": {},
   "source": [
    "## Estadísticas del dataset\n",
    "Para asegurarnos de que las imágenes estén correctamente pre procesadas y tener una idea de su distribución. Se crea la siguiente función que calcula y muestra las estadísticas básicas de las imágenes del dataset."
   ]
  },
  {
   "cell_type": "code",
   "execution_count": 7,
   "id": "37e19c8d-cefa-43ca-bb01-01838d8c727a",
   "metadata": {},
   "outputs": [],
   "source": [
    "def display_statistics(images):\n",
    "    print(\"Mean:\", np.mean(images, axis=(0, 1, 2))) #valor promedio de los pixeles en todas las imagenes\n",
    "    print(\"Median:\", np.median(images, axis=(0, 1, 2))) #mediana de los valores de pixeles en las imagenes\n",
    "    print(\"Std Dev:\", np.std(images, axis=(0, 1, 2))) #desviación estandar de los valores de pixeles en las imagenes \n",
    "    print(\"Min:\", np.min(images, axis=(0, 1, 2))) # valor minimo de los pixeles en las imagenes\n",
    "    print(\"Max:\", np.max(images, axis=(0, 1, 2))) #valor maximo de los pixeles en las imagenes "
   ]
  },
  {
   "cell_type": "code",
   "execution_count": 8,
   "id": "6e346822-197b-451a-b452-6bf8251f8c26",
   "metadata": {},
   "outputs": [
    {
     "name": "stdout",
     "output_type": "stream",
     "text": [
      "Training data statistics:\n",
      "Mean: [125.42750239 123.08609986 114.02829599]\n",
      "Median: [124. 121. 105.]\n",
      "Std Dev: [62.94400534 62.00992365 66.65793449]\n",
      "Min: [0 0 0]\n",
      "Max: [255 255 255]\n",
      "\n",
      "Test data statistics:\n",
      "Mean: [125.42107715 123.02373958 114.04102778]\n",
      "Median: [123. 120. 105.]\n",
      "Std Dev: [63.16802848 62.37071166 66.97845289]\n",
      "Min: [0 0 0]\n",
      "Max: [255 255 255]\n"
     ]
    }
   ],
   "source": [
    "print(\"Training data statistics:\")\n",
    "display_statistics(X_train)\n",
    "print(\"\\nTest data statistics:\")\n",
    "display_statistics(X_test)"
   ]
  },
  {
   "cell_type": "markdown",
   "id": "ef5371db-86d1-4566-a748-43f9417e856c",
   "metadata": {},
   "source": [
    "## Visualización de imágenes aleatorias\n",
    "A continuación, se muestran imágenes aleatorias mediante la función `plot_random_images` que selecciona y muestra un conjunto de imágenes aleatorias del dataset junto con sus etiquetas correspondientes."
   ]
  },
  {
   "cell_type": "code",
   "execution_count": 9,
   "id": "e9a18631-52c8-4ee7-bcb8-2d1274b6651f",
   "metadata": {
    "ExecuteTime": {
     "end_time": "2024-05-13T17:34:10.857726Z",
     "start_time": "2024-05-13T17:34:10.392437Z"
    }
   },
   "outputs": [],
   "source": [
    "def plot_random_images(images, labels, num_images=10):\n",
    "    indices = np.random.choice(len(images), num_images, replace=False)\n",
    "    fig, axes = plt.subplots(1, num_images, figsize=(20, 2))\n",
    "    for i, idx in enumerate(indices):\n",
    "        ax = axes[i]\n",
    "        ax.imshow(images[idx].astype('uint8'))\n",
    "        ax.title.set_text(labels[idx])\n",
    "        ax.axis('off')\n",
    "    plt.show()"
   ]
  },
  {
   "cell_type": "code",
   "execution_count": 10,
   "id": "709ed16d",
   "metadata": {
    "ExecuteTime": {
     "end_time": "2024-05-13T17:34:11.256575Z",
     "start_time": "2024-05-13T17:34:10.859093Z"
    }
   },
   "outputs": [
    {
     "data": {
      "image/png": "[encoded data removed]",
      "text/plain": [
       "<Figure size 2000x200 with 10 Axes>"
      ]
     },
     "metadata": {},
     "output_type": "display_data"
    }
   ],
   "source": [
    "plot_random_images(X_train, y_train)"
   ]
  },
  {
   "cell_type": "markdown",
   "id": "b23f2e9b-4bce-4c08-87c3-8ad924c0b334",
   "metadata": {},
   "source": [
    "## Distribución de clases\n",
    "Se muestra como se distribuyen las 10 clases del dataset."
   ]
  },
  {
   "cell_type": "code",
   "execution_count": 11,
   "id": "8138e492-2377-45bb-891d-4361a20eb5e0",
   "metadata": {},
   "outputs": [],
   "source": [
    "def display_class_distribution(labels):\n",
    "    unique, counts = np.unique(labels, return_counts=True)\n",
    "    plt.bar(unique, counts)\n",
    "    plt.xlabel('Class')\n",
    "    plt.ylabel('Frequency')\n",
    "    plt.title('Class Distribution')\n",
    "    plt.show()"
   ]
  },
  {
   "cell_type": "code",
   "execution_count": 12,
   "id": "3afda017-5603-400c-96c4-c55f7c93cccf",
   "metadata": {},
   "outputs": [
    {
     "data": {
      "image/png": "[encoded data removed]",
      "text/plain": [
       "<Figure size 640x480 with 1 Axes>"
      ]
     },
     "metadata": {},
     "output_type": "display_data"
    }
   ],
   "source": [
    "display_class_distribution(y_train)"
   ]
  },
  {
   "cell_type": "markdown",
   "id": "e940ed12-8ab1-4b23-a22b-d0a2c93b8cd6",
   "metadata": {},
   "source": [
    "## Red neuronal\n",
    "La arquitectura de la red neuronal a implementar cuenta con múltiples capas ocultas. Cada capa oculta tendrá un número específico de neuronas, y la capa de salida tendrá 10 neuronas, una para cada clase del dataset CIFAR-10. Utilizaremos la función de activación ReLU para las capas ocultas y softmax para la capa de salida. Además, se implementará regularización L1/L2 para evitar el overfitting, Early Stopping, Learning Rate Scheduler, etc."
   ]
  },
  {
   "cell_type": "markdown",
   "id": "5ee263b2-9258-4c60-b552-d666bf7d2033",
   "metadata": {},
   "source": [
    "### Arquitectura\n",
    "Se define la arquitectura de lad red neuronal, especificando el tamaño de las capas de entrada, ocultas y de salida."
   ]
  },
  {
   "cell_type": "code",
   "execution_count": 13,
   "id": "4f450dac-a735-4af6-866a-6fc11ab4260e",
   "metadata": {},
   "outputs": [],
   "source": [
    "#arquitectura de la red\n",
    "input_size = 32 * 32 * 3 # capa input\n",
    "hidden_size1 = 1024 #capa oculta 1\n",
    "hidden_size2 = 512 #capa oculta 2\n",
    "hidden_size3 = 128 #capa oculta 3\n",
    "output_size = num_classes #capa output"
   ]
  },
  {
   "cell_type": "markdown",
   "id": "3aaff0c0-309d-4df6-9017-13229f63a778",
   "metadata": {},
   "source": [
    "### Inicialización de pesos y bias\n",
    "Se inicializan los pesos utilizando la técnica de inicialización de He, que ayuda a mantener la variabilidad de los gradientes a través de las capas de la red.  "
   ]
  },
  {
   "cell_type": "code",
   "execution_count": 14,
   "id": "f6cbf0e1-8d8a-4959-add7-c948c7a07afd",
   "metadata": {},
   "outputs": [],
   "source": [
    "np.random.seed(42) #semilla\n",
    "W1 = np.random.randn(input_size, hidden_size1) * np.sqrt(2. / input_size)\n",
    "b1 = np.zeros((1, hidden_size1))\n",
    "W2 = np.random.randn(hidden_size1, hidden_size2) * np.sqrt(2. / hidden_size1)\n",
    "b2 = np.zeros((1, hidden_size2))\n",
    "W3 = np.random.randn(hidden_size2, hidden_size3) * np.sqrt(2. / hidden_size2)\n",
    "b3 = np.zeros((1, hidden_size3))\n",
    "W4 = np.random.randn(hidden_size3, output_size) * np.sqrt(2. / hidden_size3)\n",
    "b4 = np.zeros((1, output_size))"
   ]
  },
  {
   "cell_type": "code",
   "execution_count": 15,
   "id": "1e583e3b-c37c-4b74-8176-d8e824e0874d",
   "metadata": {},
   "outputs": [],
   "source": [
    "m_W1, v_W1 = np.zeros_like(W1), np.zeros_like(W1)\n",
    "m_b1, v_b1 = np.zeros_like(b1), np.zeros_like(b1)\n",
    "m_W2, v_W2 = np.zeros_like(W2), np.zeros_like(W2)\n",
    "m_b2, v_b2 = np.zeros_like(b2), np.zeros_like(b2)\n",
    "m_W3, v_W3 = np.zeros_like(W3), np.zeros_like(W3)\n",
    "m_b3, v_b3 = np.zeros_like(b3), np.zeros_like(b3)\n",
    "m_W4, v_W4 = np.zeros_like(W4), np.zeros_like(W4)\n",
    "m_b4, v_b4 = np.zeros_like(b4), np.zeros_like(b4)"
   ]
  },
  {
   "cell_type": "markdown",
   "id": "de230a42-813a-4730-ba01-fa1548d509a3",
   "metadata": {},
   "source": [
    "### Batch Normalization\n",
    "Batch normalization es una técnica utilizada para mejorar la estabilidad y la velocidad del entrenamiento de redes neuronales. Esta técnica normaliza las activaciones de una capa para cada mini-batch, lo que ayuda a mitigar problemas como el vanish y exploding del gradiente, además de permitir un uso de tasas de aprendizaje más altas.\n",
    "\n",
    "\n",
    "Para cada mini-batch de activaciones $x$, batch normalization se realizan los siguientes pasos:\n",
    "\n",
    "1. **Normalización**:\n",
    "   $$\n",
    "   \\hat{x} = \\frac{x - \\mu_{\\text{batch}}}{\\sqrt{\\sigma_{\\text{batch}}^2 + \\epsilon}}\n",
    "   $$\n",
    "   Donde:\n",
    "   - $\\mu_{\\text{batch}}$ es la media del mini-batch.\n",
    "   - $\\sigma_{\\text{batch}}^2$ es la varianza del mini-batch.\n",
    "   - $\\epsilon$ es un pequeño valor añadido para la estabilidad numérica.\n",
    "2. **Escalado y Desplazamiento**:\n",
    "   $$ y = \\gamma \\hat{x} + \\beta $$\n",
    "   Donde:\n",
    "   - $\\gamma$ es el parámetro de escala entrenable.\n",
    "   - $\\beta$ es el parámetro de desplazamiento entrenable."
   ]
  },
  {
   "cell_type": "markdown",
   "id": "9d5d579b-c14e-4a50-ba85-f0eb122dab7e",
   "metadata": {},
   "source": [
    "#### Parámetros de Batch Normalization\n",
    "\n",
    "Para cada capa donde aplicamos batch normalization, necesitamos inicializar dos parámetros clave:\n",
    "\n",
    "- **Gamma ($\\gamma$)**: Parámetro de escala que permite a la red ajustar la varianza de la activación.\n",
    "- **Beta ($\\beta$)**: Parámetro de desplazamiento que permite a la red ajustar la media de la activación.\n",
    "\n",
    "Estos parámetros son entrenables y se actualizan durante el proceso de entrenamiento de la red neuronal."
   ]
  },
  {
   "cell_type": "code",
   "execution_count": 16,
   "id": "31d37f7c-5f5f-407d-b82f-e1aaff1d30bd",
   "metadata": {},
   "outputs": [],
   "source": [
    "# inicialización de parametros del batch normalization\n",
    "gamma1 = np.ones((1, hidden_size1))\n",
    "beta1 = np.zeros((1, hidden_size1))\n",
    "gamma2 = np.ones((1, hidden_size2))\n",
    "beta2 = np.zeros((1, hidden_size2))\n",
    "gamma3 = np.ones((1, hidden_size3))\n",
    "beta3 = np.zeros((1, hidden_size3))\n",
    "gamma4 = np.ones((1, output_size))\n",
    "beta4 = np.zeros((1, output_size))"
   ]
  },
  {
   "cell_type": "code",
   "execution_count": 17,
   "id": "c54ce4ed-c134-4134-83b0-4b982d1990fe",
   "metadata": {},
   "outputs": [],
   "source": [
    "# hiperparametros del batch normalization\n",
    "epsilon = 1e-8\n",
    "momentum = 0.9"
   ]
  },
  {
   "cell_type": "code",
   "execution_count": 18,
   "id": "e2b1baf0-3060-4048-a342-84abbb78b08c",
   "metadata": {},
   "outputs": [],
   "source": [
    "running_mean1 = np.zeros((1, hidden_size1))\n",
    "running_var1 = np.ones((1, hidden_size1))\n",
    "running_mean2 = np.zeros((1, hidden_size2))\n",
    "running_var2 = np.ones((1, hidden_size2))\n",
    "running_mean3 = np.zeros((1, hidden_size3))\n",
    "running_var3 = np.ones((1, hidden_size3))\n",
    "running_mean4 = np.zeros((1, output_size))\n",
    "running_var4 = np.ones((1, output_size))"
   ]
  },
  {
   "cell_type": "markdown",
   "id": "9dc2458d-5ce6-4001-99f6-07ef8be5c958",
   "metadata": {},
   "source": [
    "#### Batch Normalization (Forward Pass)\n",
    "Se implementa la función `batch_norm_forward` para el forward pass del batch normalization.\n",
    "\n",
    "**Input:**\n",
    "- `Z:` Activaciones de la capa anterior.\n",
    "- `gamma:` Parámetro de escala.\n",
    "- `beta:` Parámetro de desplazamiento.\n",
    "- `running_mean:` Media en ejecución (promedio acumulado).\n",
    "- `running_var:` Varianza en ejecución (promedio acumulado).\n",
    "- `training:` Indicador de modo de entrenamiento (true/false).\n",
    "\n",
    "**Modo de entrenamiento**:\n",
    "\n",
    "1. **Cálculo de la media y varianza del batch**:\n",
    "   $$\n",
    "   \\text{batch\\_mean} = \\frac{1}{m} \\sum_{i=1}^m Z_i\n",
    "   $$\n",
    "\n",
    "   $$\n",
    "   \\text{batch\\_var} = \\frac{1}{m} \\sum_{i=1}^m (Z_i - \\text{batch\\_mean})^2\n",
    "   $$\n",
    "\n",
    "2. **Normalización de las activaciones**:\n",
    "   $$\n",
    "   Z_{\\text{normalized}} = \\frac{Z - \\text{batch\\_mean}}{\\sqrt{\\text{batch\\_var} + \\epsilon}}\n",
    "   $$\n",
    "**Output:**\n",
    "- `out:` Activaciones normalizadas y ajustadas por gamma y beta.\n",
    "- `cache:` Tupla de valores necesarios para el backward pass.\n",
    "- `running_mean:` Media en ejecución actualizada.\n",
    "- `running_var:` Varianza en ejecución actualizada."
   ]
  },
  {
   "cell_type": "code",
   "execution_count": 19,
   "id": "b6384f03-f7e0-4b1e-bc00-f656236118c8",
   "metadata": {},
   "outputs": [],
   "source": [
    "# Batch normalization forward pass\n",
    "def batch_norm_forward(Z, gamma, beta, running_mean, running_var, training):\n",
    "    if training:\n",
    "        batch_mean = np.mean(Z, axis=0)\n",
    "        batch_var = np.var(Z, axis=0)\n",
    "        Z_normalized = (Z - batch_mean) / np.sqrt(batch_var + epsilon)\n",
    "        out = gamma * Z_normalized + beta\n",
    "\n",
    "        running_mean = momentum * running_mean + (1 - momentum) * batch_mean\n",
    "        running_var = momentum * running_var + (1 - momentum) * batch_var\n",
    "\n",
    "        cache = (Z, Z_normalized, batch_mean, batch_var, gamma, beta)\n",
    "        return out, cache, running_mean, running_var\n",
    "    else:\n",
    "        Z_normalized = (Z - running_mean) / np.sqrt(running_var + epsilon)\n",
    "        out = gamma * Z_normalized + beta\n",
    "        return out, None, running_mean, running_var"
   ]
  },
  {
   "cell_type": "markdown",
   "id": "59830f5e-6a4f-4b0a-87ff-efe3583e2d9f",
   "metadata": {},
   "source": [
    "#### Batch Normalization (Backward Pass)\n",
    "Se implementa la función `batch_norm_backward` para el backward pass del batch normalization.\n",
    "\n",
    "**Input:**\n",
    "- `dout:` Gradiente de la pérdida con respecto a la salida de la capa de batch normalization.\n",
    "- `cache:` Tupla de valores almacenados durante el fordward pass necesarios para este backward.\n",
    "\n",
    "**Proceso:**\n",
    "- **Gradiente con respecto a $\\hat{Z} $**:\n",
    "\n",
    "  $$\n",
    "  dZ_{\\text{normalized}} = dout \\cdot \\gamma\n",
    "  $$\n",
    "\n",
    "- **Gradiente con respecto a la varianza del lote**:\n",
    "\n",
    "  $$\n",
    "  dvar = \\sum dZ_{\\text{normalized}} \\cdot (Z - \\text{batch\\_mean}) \\cdot -0.5 \\cdot ( \\text{batch\\_var} + \\epsilon )^{-1.5}\n",
    "  $$\n",
    "\n",
    "- **Gradiente con respecto a la media del lote**:\n",
    "\n",
    "  $$\n",
    "  dmean = \\sum dZ_{\\text{normalized}} \\cdot -\\frac{1}{\\sqrt{\\text{batch\\_var} + \\epsilon}} + dvar \\cdot \\frac{\\sum -2 \\cdot (Z - \\text{batch\\_mean})}{m}\n",
    "  $$\n",
    "\n",
    "- **Gradiente con respecto a \\(Z\\)**:\n",
    "\n",
    "  $$\n",
    "  dZ = dZ_{\\text{normalized}} \\cdot \\frac{1}{\\sqrt{\\text{batch\\_var} + \\epsilon}} + dvar \\cdot \\frac{2 \\cdot (Z - \\text{batch\\_mean})}{m} + dmean \\cdot \\frac{1}{m}\n",
    "  $$\n",
    "\n",
    "- **Gradiente con respecto a \\(\\gamma\\)**:\n",
    "\n",
    "  $$\n",
    "  dgamma = \\sum dout \\cdot Z_{\\text{normalized}}\n",
    "  $$\n",
    "\n",
    "- **Gradiente con respecto a \\(\\beta\\)**:\n",
    "\n",
    "  $$\n",
    "  dbeta = \\sum dout\n",
    "  $$\n",
    "\n",
    "\n",
    "**Output:**\n",
    "- `dZ:` Gradiente de la pérdida con respecto a la entrada de la capa de batch normalization.\n",
    "- `dgamma:` Gradiente de la pérdida con respecto al parámetro de escala $γ$.\n",
    "- `dbeta:` Gradiente de la pérdida con respecto al parámetro de desplazamiento $β$."
   ]
  },
  {
   "cell_type": "code",
   "execution_count": 20,
   "id": "590dbbec-7b61-4ce1-957c-f3160239e82f",
   "metadata": {},
   "outputs": [],
   "source": [
    "# Batch normalization backward pass\n",
    "def batch_norm_backward(dout, cache):\n",
    "    Z, Z_normalized, batch_mean, batch_var, gamma, beta = cache\n",
    "    m = Z.shape[0]\n",
    "\n",
    "    dZ_normalized = dout * gamma\n",
    "    dvar = np.sum(dZ_normalized * (Z - batch_mean) * -0.5 * np.power(batch_var + epsilon, -1.5), axis=0)\n",
    "    dmean = np.sum(dZ_normalized * -1 / np.sqrt(batch_var + epsilon), axis=0) + dvar * np.mean(-2 * (Z - batch_mean), axis=0)\n",
    "\n",
    "    dZ = dZ_normalized / np.sqrt(batch_var + epsilon) + dvar * 2 * (Z - batch_mean) / m + dmean / m\n",
    "    dgamma = np.sum(dout * Z_normalized, axis=0)\n",
    "    dbeta = np.sum(dout, axis=0)\n",
    "\n",
    "    return dZ, dgamma, dbeta"
   ]
  },
  {
   "cell_type": "markdown",
   "id": "e056864d-3217-4976-8be7-492a009c9cb7",
   "metadata": {},
   "source": [
    "### Funciones de activación"
   ]
  },
  {
   "cell_type": "markdown",
   "id": "e7cfe592-ff60-4c40-8969-5e0c2977e5bc",
   "metadata": {},
   "source": [
    "#### Función de activación ReLU\n",
    "La función de activación ReLU (Rectified Linear Unit) se utiliza comúnmente en redes neuronales debido a su simplicidad y efectividad. ReLU activa las neuronas en función de si su valor es mayor que cero.\n",
    "- **Función ReLU**:\n",
    "  - `relu(Z)`: Aplica la función de activación ReLU a las entradas \\( Z \\).\n",
    "    \n",
    "    $$\n",
    "    \\text{ReLU}(Z) = \\max(0, Z)\n",
    "    $$\n",
    "\n",
    "  - Esta función convierte todas las entradas negativas en cero y deja las entradas positivas sin cambios, lo que introduce no linealidad en la red.\n",
    "\n",
    "- **Derivada de ReLU**:\n",
    "  - `relu_derivative(Z)`: Calcula la derivada de la función ReLU.\n",
    "\n",
    "    $$\n",
    "    \\text{ReLU}'(Z) =\n",
    "    \\begin{cases} \n",
    "    1 & \\text{si } Z > 0 \\\\\n",
    "    0 & \\text{si } Z \\leq 0 \n",
    "    \\end{cases}\n",
    "    $$"
   ]
  },
  {
   "cell_type": "code",
   "execution_count": 21,
   "id": "9f959e5b-efa8-4ddc-8300-f017751de0c8",
   "metadata": {},
   "outputs": [],
   "source": [
    "#  ReLU\n",
    "def relu(Z):\n",
    "    return np.maximum(0, Z)"
   ]
  },
  {
   "cell_type": "code",
   "execution_count": 22,
   "id": "f186f2c3-f70e-4be8-aff4-898e617df06d",
   "metadata": {},
   "outputs": [],
   "source": [
    "def relu_derivative(Z):\n",
    "    return Z > 0"
   ]
  },
  {
   "cell_type": "markdown",
   "id": "c43c80da-ccf4-462b-8c88-56fc5284914c",
   "metadata": {},
   "source": [
    "#### Función de activación Softmax\n",
    "La función de activación Softmax se utiliza comúnmente en la capa de salida de una red neuronal para problemas de clasificación multiclase. Transforma las salidas de la red en probabilidades, asignando un valor entre 0 y 1 a cada clase, y asegurando que la suma de todas las probabilidades sea 1.\n",
    "- **Softmax**:\n",
    "  - `softmax(Z)`: Aplica la función Softmax a las entradas $ Z$.\n",
    "    \n",
    "    $$\n",
    "    \\text{softmax}(Z_i) = \\frac{\\exp(Z_i - \\max(Z))}{\\sum_j \\exp(Z_j - \\max(Z))}\n",
    "    $$\n",
    "\n",
    "  - La función calcula primero el exponente de cada valor en $Z $ después de restar el valor máximo en cada fila. Restar el valor máximo mejora la estabilidad numérica.\n",
    "  - Luego, divide cada exponente por la suma de todos los exponentes en la misma fila, transformando las salidas en probabilidades.\n"
   ]
  },
  {
   "cell_type": "code",
   "execution_count": 23,
   "id": "15215fa1-dab3-42f5-a124-35ff63dac1ef",
   "metadata": {},
   "outputs": [],
   "source": [
    "def softmax(Z):\n",
    "    exp_Z = np.exp(Z - np.max(Z, axis=1, keepdims=True))\n",
    "    return exp_Z / exp_Z.sum(axis=1, keepdims=True)"
   ]
  },
  {
   "cell_type": "markdown",
   "id": "fc3cc2d0-124e-4500-9d07-d13e913e04a4",
   "metadata": {},
   "source": [
    "### Regularización y función de pérdida\n",
    "La regularización es una técnica utilizada para prevenir el overfitting en los modelos de redes neuronales. Se crea una función que inicializa los parámetros de regularización L1 y L2 y otra la función de pérdida que incluye la pérdida de entropía cruzada junto con las regularizaciones L1 y L2.\n",
    "- **Regularización L1:** Penaliza la suma de los valores absolutos de los pesos. Ayuda a inducir esparsidad en los pesos, forzando algunos de ellos a ser exactamente cero.\n",
    "\n",
    "- **Regularización L2:** Penaliza la suma de los cuadrados de los pesos. Ayuda a prevenir grandes valores de los pesos, promoviendo pesos más pequeños y distribuidos uniformemente.\n",
    "- **Función de pérdida:**\n",
    "- - **Pérdida de entropía cruzada**: $$ \\text{cross\\_entropy\\_loss} = -\\frac{1}{m} \\sum (Y \\cdot \\log(Y_{\\text{hat}} + 1e-9))$$\n",
    "- - **Pérdida L1**:  $$\\text{l1\\_loss} = \\lambda_{L1} \\sum |W|$$\n",
    "- - **Pérdida L2**: $$\\text{l2\\_loss} = \\lambda_{L2} \\sum W^2 / 2$$\n",
    "- - **Pérdida Total**: $$\\text{total\\_loss} = \\text{cross\\_entropy\\_loss} + \\text{l1\\_loss} + \\text{l2\\_loss} $$"
   ]
  },
  {
   "cell_type": "code",
   "execution_count": 24,
   "id": "1a8168c7-c19e-48a4-83d5-53603d16eb46",
   "metadata": {},
   "outputs": [],
   "source": [
    "# parametros de regularizacion\n",
    "lambda_l1 = 0.000001  # L1 regularization\n",
    "lambda_l2 = 0.000001  #  L2 regularization"
   ]
  },
  {
   "cell_type": "code",
   "execution_count": 25,
   "id": "5617abfc-f8ba-418a-b337-c939106627d4",
   "metadata": {},
   "outputs": [],
   "source": [
    "def compute_loss(Y, Y_hat, W1, W2, W3, W4, lambda_l1, lambda_l2):\n",
    "    m = Y.shape[0]\n",
    "    cross_entropy_loss = -np.sum(Y * np.log(Y_hat + 1e-9)) / m\n",
    "    l1_loss = lambda_l1 * (np.sum(np.abs(W1)) + np.sum(np.abs(W2)) + np.sum(np.abs(W3)) + np.sum(np.abs(W4)))\n",
    "    l2_loss = lambda_l2 * (np.sum(W1**2) + np.sum(W2**2) + np.sum(W3**2) + np.sum(W4**2) ) / 2\n",
    "    return cross_entropy_loss + l1_loss + l2_loss"
   ]
  },
  {
   "cell_type": "markdown",
   "id": "dd3fbbec-6810-4c16-9448-b3530b082e6a",
   "metadata": {},
   "source": [
    "### Optimizador Adam\n",
    "El optimizador Adam (Adaptive Moment Estimation) es uno de los métodos de optimización más utilizados en el entrenamiento de redes neuronales debido a su eficiencia y adaptabilidad. Combina las ventajas de dos otros métodos de optimización: AdaGrad y RMSProp.\n",
    "#### Función de actualización \n",
    "**Parámetros del optimizador:**\n",
    "- `initial_learning_rate:` La tasa de aprendizaje inicial.    learning_rate: La tasa de aprendizaje utilizada en el momento de la actualización.\n",
    "- `beta1_adam:` Parámetro de decaimiento exponencial para el promedio móvil de los gradientes.\n",
    "- `beta2_adam:` Parámetro de decaimiento exponencial para el promedio móvil de los cuadrados de los gradientes.\n",
    "- `eps` Pequeño valor añadido para evitar la división por cero.\n",
    "\n",
    "**Variables de momento:**\n",
    "- `m:` Promedio móvil de los gradientes.\n",
    "- `v:` Promedio móvil de los cuadrados de los gradientes.\n",
    "\n",
    "**Actualización:**\n",
    "\n",
    "- **Promedio móvil de los gradientes**:\n",
    "\n",
    "  $$\n",
    "  m = \\beta_1 \\cdot m + (1 - \\beta_1) \\cdot \\text{grad}\n",
    "  $$\n",
    "\n",
    "- **Promedio móvil de los cuadrados de los gradientes**:\n",
    "\n",
    "  $$\n",
    "  v = \\beta_2 \\cdot v + (1 - \\beta_2) \\cdot (\\text{grad}^2)\n",
    "  $$\n",
    "\n",
    "- **Corrección de sesgo para el promedio móvil de los gradientes**:\n",
    "\n",
    "  $$\n",
    "  \\hat{m} = \\frac{m}{1 - \\beta_1^t}\n",
    "  $$\n",
    "\n",
    "- **Corrección de sesgo para el promedio móvil de los cuadrados de los gradientes**:\n",
    "\n",
    "  $$\n",
    "  \\hat{v} = \\frac{v}{1 - \\beta_2^t}\n",
    "  $$\n",
    "\n",
    "- **Actualización del parámetro**:\n",
    "\n",
    "  $$\n",
    "  \\text{param} = \\text{param} - \\text{learning\\_rate} \\cdot \\frac{\\hat{m}}{\\sqrt{\\hat{v}} + \\epsilon}\n",
    "  $$"
   ]
  },
  {
   "cell_type": "code",
   "execution_count": 26,
   "id": "7d4e4a18-51b2-409e-8078-14d69aa9642c",
   "metadata": {},
   "outputs": [],
   "source": [
    "# Adam Optimizer \n",
    "initial_learning_rate = 0.0009\n",
    "learning_rate = initial_learning_rate\n",
    "beta1_adam = 0.9\n",
    "beta2_adam = 0.999\n",
    "eps = 1e-8"
   ]
  },
  {
   "cell_type": "code",
   "execution_count": 27,
   "id": "0471d818-8922-49e4-ba67-f7ce2a3a1073",
   "metadata": {},
   "outputs": [],
   "source": [
    "m_gamma1, v_gamma1 = np.zeros_like(gamma1), np.zeros_like(gamma1)\n",
    "m_beta1, v_beta1 = np.zeros_like(beta1), np.zeros_like(beta1)\n",
    "m_gamma2, v_gamma2 = np.zeros_like(gamma2), np.zeros_like(gamma2)\n",
    "m_beta2, v_beta2 = np.zeros_like(beta2), np.zeros_like(beta2)\n",
    "m_gamma3, v_gamma3 = np.zeros_like(gamma3), np.zeros_like(gamma3)\n",
    "m_beta3, v_beta3 = np.zeros_like(beta3), np.zeros_like(beta3)\n",
    "m_gamma4, v_gamma4 = np.zeros_like(gamma4), np.zeros_like(gamma4)\n",
    "m_beta4, v_beta4 = np.zeros_like(beta4), np.zeros_like(beta4)"
   ]
  },
  {
   "cell_type": "code",
   "execution_count": 28,
   "id": "52de90a5-ae62-4bc5-ac7b-bd3f2a05a4c1",
   "metadata": {},
   "outputs": [],
   "source": [
    "# Adam optimizer update\n",
    "def adam_update(param, grad, m, v, t, learning_rate, beta1, beta2, eps):\n",
    "    m = beta1 * m + (1 - beta1) * grad\n",
    "    v = beta2 * v + (1 - beta2) * (grad ** 2)\n",
    "    m_hat = m / (1 - beta1 ** t)\n",
    "    v_hat = v / (1 - beta2 ** t)\n",
    "    param -= learning_rate * m_hat / (np.sqrt(v_hat) + eps)\n",
    "    return param, m, v"
   ]
  },
  {
   "cell_type": "markdown",
   "id": "84ad16f9-442a-400a-9c65-3f18aa98b9ec",
   "metadata": {},
   "source": [
    "### Early Stopping\n",
    "Early Stopping es una técnica utilizada durante el entrenamiento de redes neuronales para prevenir el overfitting. Esta técnica detiene el entrenamiento cuando la pérdida en el conjunto de validación deja de mejorar después de un número determinado de epochs.\n",
    "- **Parámetros:**\n",
    "- `patience:` Número de epochs que se espera antes de detener el entrenamiento si no hay mejora en la pérdida de validación.\n",
    "- `min_delta:` Mínima mejora en la pérdida que se considera como una mejora significativa.\n",
    "\n",
    "- **Atributos:**\n",
    "- `best_loss:` La mejor pérdida de validación observada hasta ahora.\n",
    "- `counter:` Contador de epochs sin mejora significativa en la pérdida de validación.\n",
    "\n",
    "- **Método should_stop:**\n",
    "- `val_loss:` La pérdida de validación en la epoch actual.\n",
    "- - Compara la pérdida de validación actual con la mejor pérdida observada.\n",
    "- - Si la pérdida actual es significativamente mejor (menor por al menos min_delta), se actualiza best_loss y se reinicia el contador.\n",
    "- - Si no hay mejora significativa, se incrementa el contador.\n",
    "- - Devuelve True si el contador alcanza el valor de patience, indicando que se debe detener el entrenamiento."
   ]
  },
  {
   "cell_type": "code",
   "execution_count": 29,
   "id": "9acec579-0521-4e27-bfa2-c4c7ee2190b2",
   "metadata": {},
   "outputs": [],
   "source": [
    "# Early Stopping\n",
    "class EarlyStopping:\n",
    "    def __init__(self, patience=20, min_delta=0.001):\n",
    "        self.patience = patience\n",
    "        self.min_delta = min_delta\n",
    "        self.best_loss = np.inf\n",
    "        self.counter = 0\n",
    "\n",
    "    def should_stop(self, val_loss):\n",
    "        if val_loss < self.best_loss - self.min_delta:\n",
    "            self.best_loss = val_loss\n",
    "            self.counter = 0\n",
    "        else:\n",
    "            self.counter += 1\n",
    "        return self.counter >= self.patience"
   ]
  },
  {
   "cell_type": "markdown",
   "id": "7cd28622-a29a-4726-8789-b2225b689942",
   "metadata": {},
   "source": [
    "### Learning Rate Scheduler\n",
    "Learning Rate Scheduler ajusta dinámicamente la tasa de aprendizaje durante el entrenamiento del modelo. Disminuir la tasa de aprendizaje cuando la pérdida de validación no mejora permite que la red converja mejor.\n",
    "- **Parámetros:**\n",
    "- `factor:` Factor por el cual se reduce la tasa de aprendizaje.\n",
    "- `patience:` Número de épocas sin mejora en la pérdida de validación antes de reducir la tasa de aprendizaje.\n",
    "- `min_lr:` La tasa de aprendizaje mínima que se puede alcanzar.\n",
    "\n",
    "- **Atributos:**\n",
    "- `best_loss:` La mejor pérdida de validación observada hasta ahora.\n",
    "- `counter:` Contador de épocas sin mejora en la pérdida de validación.\n",
    "\n",
    "- **Método schedule:**\n",
    "- `val_loss:` La pérdida de validación en la época actual.\n",
    " - `current_lr:` La tasa de aprendizaje actual.\n",
    "- - Compara la pérdida de validación actual con la mejor pérdida observada.\n",
    "- - Si la pérdida actual mejora, actualiza best_loss y reinicia el contador.\n",
    "- - Si no hay mejora, incrementa el contador.\n",
    "- - Si el contador alcanza el valor de patience, reduce la tasa de aprendizaje, multiplicándola por factor, sin bajar de min_lr."
   ]
  },
  {
   "cell_type": "code",
   "execution_count": 30,
   "id": "8242a26c-9f56-4167-a855-9e5be1a11f42",
   "metadata": {},
   "outputs": [],
   "source": [
    "# Learning Rate Scheduler\n",
    "class LearningRateScheduler:\n",
    "    def __init__(self, factor=0.5, patience=10, min_lr=1e-6):\n",
    "        self.factor = factor\n",
    "        self.patience = patience\n",
    "        self.min_lr = min_lr\n",
    "        self.best_loss = np.inf\n",
    "        self.counter = 0\n",
    "\n",
    "    def schedule(self, val_loss, current_lr):\n",
    "        if val_loss < self.best_loss:\n",
    "            self.best_loss = val_loss\n",
    "            self.counter = 0\n",
    "        else:\n",
    "            self.counter += 1\n",
    "        if self.counter >= self.patience:\n",
    "            new_lr = max(current_lr * self.factor, self.min_lr)\n",
    "            print(f\"Reducing learning rate from {current_lr} to {new_lr}\")\n",
    "            self.counter = 0\n",
    "            return new_lr\n",
    "        return current_lr"
   ]
  },
  {
   "cell_type": "markdown",
   "id": "a3fc1ade-026f-40f7-afad-a63ac2a843d2",
   "metadata": {},
   "source": [
    "### Métricas de evaluación\n",
    "Se implementa una función que calcula la precisión (precision), recall y exactitud (accuracy).\n",
    "- **Precision:**\n",
    "\n",
    "$$\n",
    "\\text{Precisión} = \\frac{TP}{TP + FP}\n",
    "$$\n",
    "\n",
    "- **Recall:**\n",
    "\n",
    "$$\n",
    "\\text{Recall} = \\frac{TP}{TP + FN}\n",
    "$$\n",
    "\n",
    "- **Accuracy:**\n",
    "\n",
    "$$\n",
    "\\text{Exactitud} = \\frac{\\text{Número de predicciones correctas}}{\\text{Número total de predicciones}}\n",
    "$$"
   ]
  },
  {
   "cell_type": "code",
   "execution_count": 31,
   "id": "6b82c74c-cde9-47b5-8bcf-b8c67f1e2dfe",
   "metadata": {},
   "outputs": [],
   "source": [
    "def metrics(pred, true, num_classes):#\n",
    "    precisions = []\n",
    "    recalls = []\n",
    "    accuracy = np.mean(pred == true)\n",
    "    for cls in range(num_classes):\n",
    "        tp = np.sum((pred == cls) & (true == cls))\n",
    "        fp = np.sum((pred == cls) & (true != cls))\n",
    "        fn = np.sum((pred != cls) & (true == cls))\n",
    "        \n",
    "        precision = tp / (tp + fp) if (tp + fp) > 0 else 0\n",
    "        recall = tp / (tp + fn) if (tp + fn) > 0 else 0\n",
    "        \n",
    "        precisions.append(precision)\n",
    "        recalls.append(recall)\n",
    "        \n",
    "    return precisions, recalls, accuracy"
   ]
  },
  {
   "cell_type": "markdown",
   "id": "51b1e88a-38ea-42cf-aa24-64ca818d784a",
   "metadata": {},
   "source": [
    "## Entrenamiento del modelo"
   ]
  },
  {
   "cell_type": "markdown",
   "id": "8b4ea115-cd3b-45e8-9ea2-75b2e51fb533",
   "metadata": {},
   "source": [
    "### Configuración \n",
    "Se define el número de epochs para entrenar el modelo y la proporción de datos de entrenamiento que se utilizará para la validación."
   ]
  },
  {
   "cell_type": "code",
   "execution_count": 32,
   "id": "d8465fee-5a65-4e32-ab75-892ad024fb71",
   "metadata": {},
   "outputs": [],
   "source": [
    "epochs = 500\n",
    "validation_split = 0.1"
   ]
  },
  {
   "cell_type": "markdown",
   "id": "30717ace-4daf-49bc-960d-b807803fe4b2",
   "metadata": {},
   "source": [
    "Se divide el dataset de entrenamiento en dos subconjuntos: uno para entrenamiento y otro para validación, basado en la proporción definida anteriormente."
   ]
  },
  {
   "cell_type": "code",
   "execution_count": 33,
   "id": "7d2c7328-6683-4b2c-a31c-9b9b3e836551",
   "metadata": {},
   "outputs": [],
   "source": [
    "val_size = int(len(X_train_flat) * validation_split)\n",
    "X_val = X_train_flat[:val_size]\n",
    "y_val = y_train_one_hot[:val_size]\n",
    "X_train_flat = X_train_flat[val_size:]\n",
    "y_train_one_hot = y_train_one_hot[val_size:]"
   ]
  },
  {
   "cell_type": "code",
   "execution_count": 34,
   "id": "bf1b3943-ca52-4da1-a1bb-6e595cc1c06c",
   "metadata": {},
   "outputs": [],
   "source": [
    "train_losses = []\n",
    "val_losses = []"
   ]
  },
  {
   "cell_type": "code",
   "execution_count": 35,
   "id": "17d01ebf-55eb-47ef-a2d4-3f340f3fc225",
   "metadata": {},
   "outputs": [],
   "source": [
    "early_stopping = EarlyStopping(patience=20, min_delta=0.001)\n",
    "lr_scheduler = LearningRateScheduler(factor=0.5, patience=10, min_lr=1e-6)"
   ]
  },
  {
   "cell_type": "markdown",
   "id": "939675a4-4c34-4b68-adeb-ab44b313d87a",
   "metadata": {},
   "source": [
    "### Implementación\n",
    "Se entrena la red neuronal utilizando propagación hacia adelante, cálculo de pérdida, propagación hacia atrás, y actualizaciones de parámetros mediante el optimizador Adam. También se realiza la validación y se ajusta la tasa de aprendizaje."
   ]
  },
  {
   "cell_type": "code",
   "execution_count": 36,
   "id": "8d51a8d9-e93c-4742-99a7-5722190a4658",
   "metadata": {},
   "outputs": [
    {
     "name": "stdout",
     "output_type": "stream",
     "text": [
      "Epoch 0, Train Loss: 2.8030, Val Loss: 5.9474 | Train Accuracy: 0.0968, Val Accuracy: 0.1016\n",
      "Epoch 5, Train Loss: 1.8008, Val Loss: 2.6168 | Train Accuracy: 0.4121, Val Accuracy: 0.2012\n",
      "Epoch 10, Train Loss: 1.6812, Val Loss: 2.0869 | Train Accuracy: 0.4572, Val Accuracy: 0.2898\n",
      "Epoch 15, Train Loss: 1.5959, Val Loss: 1.8564 | Train Accuracy: 0.4930, Val Accuracy: 0.3976\n",
      "Epoch 20, Train Loss: 1.5257, Val Loss: 1.7690 | Train Accuracy: 0.5250, Val Accuracy: 0.4402\n",
      "Epoch 25, Train Loss: 1.4593, Val Loss: 1.7225 | Train Accuracy: 0.5536, Val Accuracy: 0.4620\n",
      "Epoch 30, Train Loss: 1.4050, Val Loss: 1.7428 | Train Accuracy: 0.5807, Val Accuracy: 0.4588\n",
      "Epoch 35, Train Loss: 1.3363, Val Loss: 1.7201 | Train Accuracy: 0.6152, Val Accuracy: 0.4649\n",
      "Epoch 40, Train Loss: 1.2718, Val Loss: 1.6892 | Train Accuracy: 0.6479, Val Accuracy: 0.4735\n",
      "Epoch 45, Train Loss: 1.2113, Val Loss: 1.7334 | Train Accuracy: 0.6794, Val Accuracy: 0.4582\n",
      "Epoch 50, Train Loss: 1.1842, Val Loss: 1.6898 | Train Accuracy: 0.6949, Val Accuracy: 0.4751\n",
      "Reducing learning rate from 0.0009 to 0.00045\n",
      "Epoch 55, Train Loss: 1.1236, Val Loss: 1.6096 | Train Accuracy: 0.7262, Val Accuracy: 0.5125\n",
      "Epoch 60, Train Loss: 1.0721, Val Loss: 1.6165 | Train Accuracy: 0.7583, Val Accuracy: 0.5133\n",
      "Epoch 65, Train Loss: 1.0356, Val Loss: 1.5961 | Train Accuracy: 0.7793, Val Accuracy: 0.5161\n",
      "Epoch 70, Train Loss: 0.9955, Val Loss: 1.6131 | Train Accuracy: 0.8033, Val Accuracy: 0.5071\n",
      "Epoch 75, Train Loss: 0.9581, Val Loss: 1.6080 | Train Accuracy: 0.8230, Val Accuracy: 0.5151\n",
      "Reducing learning rate from 0.00045 to 0.000225\n",
      "Epoch 80, Train Loss: 0.9336, Val Loss: 1.5958 | Train Accuracy: 0.8394, Val Accuracy: 0.5149\n",
      "Epoch 85, Train Loss: 0.9138, Val Loss: 1.5922 | Train Accuracy: 0.8502, Val Accuracy: 0.5175\n",
      "Epoch 90, Train Loss: 0.8941, Val Loss: 1.5972 | Train Accuracy: 0.8629, Val Accuracy: 0.5186\n",
      "Epoch 95, Train Loss: 0.8744, Val Loss: 1.6015 | Train Accuracy: 0.8746, Val Accuracy: 0.5159\n",
      "Reducing learning rate from 0.000225 to 0.0001125\n",
      "Epoch 100, Train Loss: 0.8604, Val Loss: 1.6007 | Train Accuracy: 0.8811, Val Accuracy: 0.5167\n",
      "Epoch 105, Train Loss: 0.8503, Val Loss: 1.5980 | Train Accuracy: 0.8861, Val Accuracy: 0.5165\n",
      "Early stopping at epoch 105\n",
      "Training time: 16 minutes and 15 seconds\n"
     ]
    }
   ],
   "source": [
    "start_time = time.time()\n",
    "\n",
    "for epoch in range(epochs):\n",
    "    # Forward propagation\n",
    "    Z1 = np.dot(X_train_flat, W1) + b1\n",
    "    Z1_bn, cache1, running_mean1, running_var1 = batch_norm_forward(Z1, gamma1, beta1, running_mean1, running_var1, training=True)\n",
    "    A1 = relu(Z1_bn)\n",
    "    Z2 = np.dot(A1, W2) + b2\n",
    "    Z2_bn, cache2, running_mean2, running_var2 = batch_norm_forward(Z2, gamma2, beta2, running_mean2, running_var2, training=True)\n",
    "    A2 = relu(Z2_bn)\n",
    "    Z3 = np.dot(A2, W3) + b3\n",
    "    Z3_bn, cache3, running_mean3, running_var3 = batch_norm_forward(Z3, gamma3, beta3, running_mean3, running_var3, training=True)\n",
    "    A3 = relu(Z3_bn)\n",
    "    Z4 = np.dot(A3, W4) + b4\n",
    "    Z4_bn, cache4, running_mean4, running_var4 = batch_norm_forward(Z4, gamma4, beta4, running_mean4, running_var4, training=True)\n",
    "    Y_hat = softmax(Z4_bn)\n",
    "    \n",
    "    # Compute loss\n",
    "    loss = compute_loss(y_train_one_hot, Y_hat, W1, W2, W3, W4, lambda_l1, lambda_l2)\n",
    "    train_losses.append(loss)\n",
    "    \n",
    "    # Backward propagation\n",
    "    dZ4_bn = Y_hat - y_train_one_hot\n",
    "    dZ4, dgamma4, dbeta4 = batch_norm_backward(dZ4_bn, cache4)\n",
    "    dW4 = np.dot(A3.T, dZ4) / X_train_flat.shape[0] + lambda_l2 * W4\n",
    "    db4 = np.sum(dZ4, axis=0, keepdims=True) / X_train_flat.shape[0]\n",
    "    dA3 = np.dot(dZ4, W4.T)\n",
    "    \n",
    "    dZ3_bn = dA3 * relu_derivative(cache3[1])\n",
    "    dZ3, dgamma3, dbeta3 = batch_norm_backward(dZ3_bn, cache3)\n",
    "    dW3 = np.dot(A2.T, dZ3) / X_train_flat.shape[0] + lambda_l2 * W3\n",
    "    db3 = np.sum(dZ3, axis=0, keepdims=True) / X_train_flat.shape[0]\n",
    "    dA2 = np.dot(dZ3, W3.T)\n",
    "    \n",
    "    dZ2_bn = dA2 * relu_derivative(cache2[1])\n",
    "    dZ2, dgamma2, dbeta2 = batch_norm_backward(dZ2_bn, cache2)\n",
    "    dW2 = np.dot(A1.T, dZ2) / X_train_flat.shape[0] + lambda_l2 * W2\n",
    "    db2 = np.sum(dZ2, axis=0, keepdims=True) / X_train_flat.shape[0]\n",
    "    dA1 = np.dot(dZ2, W2.T)\n",
    "    \n",
    "    dZ1_bn = dA1 * relu_derivative(cache1[1])\n",
    "    dZ1, dgamma1, dbeta1 = batch_norm_backward(dZ1_bn, cache1)\n",
    "    dW1 = np.dot(X_train_flat.T, dZ1) / X_train_flat.shape[0] + lambda_l2 * W1\n",
    "    db1 = np.sum(dZ1, axis=0, keepdims=True) / X_train_flat.shape[0\n",
    "]\n",
    "    #Actualización de pesos y bias utilizando el optimizador Adam\n",
    "    t = epoch + 1\n",
    "    W1, m_W1, v_W1 = adam_update(W1, dW1, m_W1, v_W1, t, learning_rate, beta1_adam, beta2_adam, eps)\n",
    "    b1, m_b1, v_b1 = adam_update(b1, db1, m_b1, v_b1, t, learning_rate, beta1_adam, beta2_adam, eps)\n",
    "    W2, m_W2, v_W2 = adam_update(W2, dW2, m_W2, v_W2, t, learning_rate, beta1_adam, beta2_adam, eps)\n",
    "    b2, m_b2, v_b2 = adam_update(b2, db2, m_b2, v_b2, t, learning_rate, beta1_adam, beta2_adam, eps)\n",
    "    W3, m_W3, v_W3 = adam_update(W3, dW3, m_W3, v_W3, t, learning_rate, beta1_adam, beta2_adam, eps)\n",
    "    b3, m_b3, v_b3 = adam_update(b3, db3, m_b3, v_b3, t, learning_rate, beta1_adam, beta2_adam, eps)\n",
    "    W4, m_W4, v_W4 = adam_update(W4, dW4, m_W4, v_W4, t, learning_rate, beta1_adam, beta2_adam, eps)\n",
    "    b4, m_b4, v_b4 = adam_update(b4, db4, m_b4, v_b4, t, learning_rate, beta1_adam, beta2_adam, eps)\n",
    "    gamma1, m_gamma1, v_gamma1 = adam_update(gamma1, dgamma1, m_gamma1, v_gamma1, t, learning_rate, beta1_adam, beta2_adam, eps)\n",
    "    beta1, m_beta1, v_beta1 = adam_update(beta1, dbeta1, m_beta1, v_beta1, t, learning_rate, beta1_adam, beta2_adam, eps)\n",
    "    gamma2, m_gamma2, v_gamma2 = adam_update(gamma2, dgamma2, m_gamma2, v_gamma2, t, learning_rate, beta1_adam, beta2_adam, eps)\n",
    "    beta2, m_beta2, v_beta2 = adam_update(beta2, dbeta2, m_beta2, v_beta2, t, learning_rate, beta1_adam, beta2_adam, eps)\n",
    "    gamma3, m_gamma3, v_gamma3 = adam_update(gamma3, dgamma3, m_gamma3, v_gamma3, t, learning_rate, beta1_adam, beta2_adam, eps)\n",
    "    beta3, m_beta3, v_beta3 = adam_update(beta3, dbeta3, m_beta3, v_beta3, t, learning_rate, beta1_adam, beta2_adam, eps)\n",
    "    gamma4, m_gamma4, v_gamma4 = adam_update(gamma4, dgamma4, m_gamma4, v_gamma4, t, learning_rate, beta1_adam, beta2_adam, eps)\n",
    "    beta4, m_beta4, v_beta4 = adam_update(beta4, dbeta4, m_beta4, v_beta4, t, learning_rate, beta1_adam, beta2_adam, eps)\n",
    "    \n",
    "    # Validation forward propagation\n",
    "    Z1_val = np.dot(X_val, W1) + b1\n",
    "    Z1_val_bn, _, running_mean1, running_var1 = batch_norm_forward(Z1_val, gamma1, beta1, running_mean1, running_var1, training=False)\n",
    "    A1_val = relu(Z1_val_bn)\n",
    "    Z2_val = np.dot(A1_val, W2) + b2\n",
    "    Z2_val_bn, _, running_mean2, running_var2 = batch_norm_forward(Z2_val, gamma2, beta2, running_mean2, running_var2, training=False)\n",
    "    A2_val = relu(Z2_val_bn)\n",
    "    Z3_val = np.dot(A2_val, W3) + b3\n",
    "    Z3_val_bn, _, running_mean3, running_var3 = batch_norm_forward(Z3_val, gamma3, beta3, running_mean3, running_var3, training=False)\n",
    "    A3_val = relu(Z3_val_bn)\n",
    "    Z4_val = np.dot(A3_val, W4) + b4\n",
    "    Z4_val_bn, _, running_mean4, running_var4 = batch_norm_forward(Z4_val, gamma4, beta4, running_mean4, running_var4, training=False)\n",
    "    Y_hat_val = softmax(Z4_val_bn)\n",
    "    \n",
    "    # Compute validation loss\n",
    "    val_loss = compute_loss(y_val, Y_hat_val, W1, W2, W3, W4, lambda_l1, lambda_l2)\n",
    "    val_losses.append(val_loss)\n",
    "    \n",
    "    if epoch % 5 == 0:\n",
    "        #  training accuracy\n",
    "        train_pred = np.argmax(Y_hat, axis=1)\n",
    "        train_true = np.argmax(y_train_one_hot, axis=1)\n",
    "        \n",
    "        #  validation accuracy\n",
    "        val_pred = np.argmax(Y_hat_val, axis=1)\n",
    "        val_true = np.argmax(y_val, axis=1)\n",
    "        \n",
    "        #  metricas\n",
    "        train_precision, train_recall, train_accuracy = metrics(train_pred, train_true, num_classes)\n",
    "        val_precision, val_recall, val_accuracy = metrics(val_pred, val_true, num_classes)\n",
    "        \n",
    "        print(f'Epoch {epoch}, Train Loss: {loss:.4f}, Val Loss: {val_loss:.4f} | Train Accuracy: {train_accuracy:.4f}, Val Accuracy: {val_accuracy:.4f}')\n",
    "    # Early stopping check\n",
    "    if early_stopping.should_stop(val_loss):\n",
    "        print(f\"Early stopping at epoch {epoch}\")\n",
    "        break\n",
    "    \n",
    "    # Learning rate scheduling\n",
    "    learning_rate = lr_scheduler.schedule(val_loss, learning_rate)\n",
    "\n",
    "end_time = time.time()\n",
    "elapsed_time = end_time - start_time\n",
    "minutes = int(elapsed_time // 60)\n",
    "seconds = int(elapsed_time % 60)\n",
    "print(f\"Training time: {minutes} minutes and {seconds} seconds\")"
   ]
  },
  {
   "cell_type": "markdown",
   "id": "acfe10d3-b817-4d6c-889d-c8d8537d9e0c",
   "metadata": {},
   "source": [
    "### Visualización de la pérdida de entrenamiento y validación\n",
    "Se grafican las pérdidas de entrenamiento y validación a lo largo de los epochs para evaluar el rendimiento del modelo durante el proceso de entrenamiento."
   ]
  },
  {
   "cell_type": "code",
   "execution_count": 37,
   "id": "dcc66401-1ef8-4080-b6db-121bc5adb3e4",
   "metadata": {},
   "outputs": [
    {
     "data": {
      "image/png": "[encoded data removed]",
      "text/plain": [
       "<Figure size 1000x500 with 1 Axes>"
      ]
     },
     "metadata": {},
     "output_type": "display_data"
    }
   ],
   "source": [
    "plt.figure(figsize=(10, 5))\n",
    "plt.plot(range(len(train_losses)), train_losses, label='Training Loss')\n",
    "plt.plot(range(len(val_losses)), val_losses, label='Validation Loss')\n",
    "plt.xlabel('Epochs')\n",
    "plt.ylabel('Loss')\n",
    "plt.title('Training and Validation Loss')\n",
    "plt.legend()\n",
    "plt.show()"
   ]
  },
  {
   "cell_type": "markdown",
   "id": "a67de04a-2d81-4dd5-9e1f-a6bf62660a8e",
   "metadata": {},
   "source": [
    "## Predicción\n",
    "Se define la función de predicción para la red neuronal. Esta función realiza la propagación hacia adelante a través de todas las capas utilizando los parámetros aprendidos y devuelve las predicciones finales."
   ]
  },
  {
   "cell_type": "code",
   "execution_count": 40,
   "id": "ac2bbf82-6c71-46e1-b8e6-593011572e98",
   "metadata": {},
   "outputs": [],
   "source": [
    "def predict(X):\n",
    "    Z1 = np.dot(X, W1) + b1\n",
    "    Z1_bn, _, _, _ = batch_norm_forward(Z1, gamma1, beta1, running_mean1, running_var1, training=False)\n",
    "    A1 = relu(Z1_bn)\n",
    "    Z2 = np.dot(A1, W2) + b2\n",
    "    Z2_bn, _, _, _ = batch_norm_forward(Z2, gamma2, beta2, running_mean2, running_var2, training=False)\n",
    "    A2 = relu(Z2_bn)\n",
    "    Z3 = np.dot(A2, W3) + b3\n",
    "    Z3_bn, _, _, _ = batch_norm_forward(Z3, gamma3, beta3, running_mean3, running_var3, training=False)\n",
    "    A3 = relu(Z3_bn)\n",
    "    Z4 = np.dot(A3, W4) + b4\n",
    "    Z4_bn, _, _, _ = batch_norm_forward(Z4, gamma4, beta4, running_mean4, running_var4, training=False)\n",
    "    Y_hat = softmax(Z4_bn)\n",
    "    return np.argmax(Y_hat, axis=1)"
   ]
  },
  {
   "cell_type": "code",
   "execution_count": 41,
   "id": "6b5e3ddc-2914-46d5-8351-c7f1bb1ee21b",
   "metadata": {},
   "outputs": [
    {
     "name": "stdout",
     "output_type": "stream",
     "text": [
      "[1 0 1 ... 4 9 4]\n"
     ]
    }
   ],
   "source": [
    "y_test_pred = predict(X_test_flat)\n",
    "print(y_test_pred)"
   ]
  },
  {
   "cell_type": "markdown",
   "id": "3ef2006d-ef12-4a6a-825f-35c35d15cbd3",
   "metadata": {},
   "source": [
    "Se crea archivo CSV con el formato para el submission de kaggle."
   ]
  },
  {
   "cell_type": "code",
   "execution_count": 42,
   "id": "2915c2b8-2fe8-4186-94c1-6b40f0e8d4ad",
   "metadata": {},
   "outputs": [],
   "source": [
    "predictions_df = pd.DataFrame({\n",
    "    'ID': np.arange(len(y_test_pred)),\n",
    "    'label': y_test_pred\n",
    "})"
   ]
  },
  {
   "cell_type": "code",
   "execution_count": 43,
   "id": "0f230023-acdd-4578-9592-13250e0f2f32",
   "metadata": {},
   "outputs": [],
   "source": [
    "predictions_df.to_csv('submission.csv', index=False)"
   ]
  },
  {
   "cell_type": "markdown",
   "id": "3dd5c5f9-5c33-4bd6-99f1-f97404104bfe",
   "metadata": {},
   "source": [
    "### Valor de las métricas"
   ]
  },
  {
   "cell_type": "code",
   "execution_count": 47,
   "id": "13180c70-31ce-445e-942e-fd76781b9a48",
   "metadata": {},
   "outputs": [
    {
     "name": "stdout",
     "output_type": "stream",
     "text": [
      "Train metrics\n",
      "Overall Accuracy: 0.8829\n",
      "Class 0 - Precision: 0.8257, Recall: 0.8154\n",
      "Class 1 - Precision: 0.9301, Recall: 0.9297\n",
      "Class 2 - Precision: 0.8677, Recall: 0.8565\n",
      "Class 3 - Precision: 0.8953, Recall: 0.8900\n",
      "Class 4 - Precision: 0.8209, Recall: 0.8220\n",
      "Class 5 - Precision: 0.9143, Recall: 0.9053\n",
      "Class 6 - Precision: 0.8418, Recall: 0.9089\n",
      "Class 7 - Precision: 0.9390, Recall: 0.9106\n",
      "Class 8 - Precision: 0.8883, Recall: 0.8864\n",
      "Class 9 - Precision: 0.9113, Recall: 0.9045\n",
      "Val metrics\n",
      "Overall Accuracy: 0.5165\n",
      "Class 0 - Precision: 0.6160, Recall: 0.5969\n",
      "Class 1 - Precision: 0.6273, Recall: 0.5965\n",
      "Class 2 - Precision: 0.4034, Recall: 0.4034\n",
      "Class 3 - Precision: 0.3398, Recall: 0.3378\n",
      "Class 4 - Precision: 0.4472, Recall: 0.4669\n",
      "Class 5 - Precision: 0.4160, Recall: 0.4313\n",
      "Class 6 - Precision: 0.5226, Recall: 0.6168\n",
      "Class 7 - Precision: 0.5727, Recall: 0.5394\n",
      "Class 8 - Precision: 0.6500, Recall: 0.6127\n",
      "Class 9 - Precision: 0.6053, Recall: 0.5737\n"
     ]
    }
   ],
   "source": [
    "print('Train metrics')\n",
    "y_train_pred = predict(X_train_flat)\n",
    "precisions, recalls, accuracy = metrics(y_train_pred, np.argmax(y_train_one_hot, axis=1), num_classes)\n",
    "print(f\"Overall Accuracy: {accuracy:.4f}\")\n",
    "for i in range(num_classes):\n",
    "    print(f\"Class {i} - Precision: {precisions[i]:.4f}, Recall: {recalls[i]:.4f}\")\n",
    "print('Val metrics')\n",
    "y_train_pred = predict(X_val)\n",
    "precisions, recalls, accuracy = metrics(y_train_pred, np.argmax(y_val, axis=1), num_classes)\n",
    "print(f\"Overall Accuracy: {accuracy:.4f}\")\n",
    "for i in range(num_classes):\n",
    "    print(f\"Class {i} - Precision: {precisions[i]:.4f}, Recall: {recalls[i]:.4f}\")"
   ]
  }
 ],
 "metadata": {
  "kernelspec": {
   "display_name": "Python 3 (ipykernel)",
   "language": "python",
   "name": "python3"
  },
  "language_info": {
   "codemirror_mode": {
    "name": "ipython",
    "version": 3
   },
   "file_extension": ".py",
   "mimetype": "text/x-python",
   "name": "python",
   "nbconvert_exporter": "python",
   "pygments_lexer": "ipython3",
   "version": "3.11.8"
  }
 },
 "nbformat": 4,
 "nbformat_minor": 5
}
